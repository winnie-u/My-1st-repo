{
  "nbformat": 4,
  "nbformat_minor": 0,
  "metadata": {
    "colab": {
      "name": "Marathon problem.ipynb",
      "provenance": [],
      "authorship_tag": "ABX9TyM7FfHl1GTylOleLTe4/8nK",
      "include_colab_link": true
    },
    "kernelspec": {
      "name": "python3",
      "display_name": "Python 3"
    }
  },
  "cells": [
    {
      "cell_type": "markdown",
      "metadata": {
        "id": "view-in-github",
        "colab_type": "text"
      },
      "source": [
        "<a href=\"https://colab.research.google.com/github/winnie-u/My-1st-repo/blob/master/Marathon_problem.ipynb\" target=\"_parent\"><img src=\"https://colab.research.google.com/assets/colab-badge.svg\" alt=\"Open In Colab\"/></a>"
      ]
    },
    {
      "cell_type": "code",
      "metadata": {
        "id": "dneam9YvP9WG",
        "colab_type": "code",
        "colab": {
          "base_uri": "https://localhost:8080/",
          "height": 1000
        },
        "outputId": "17084129-4c06-4ee0-b451-b89fec6e30c8"
      },
      "source": [
        "#Matrix for 10 people and 20 tracks is generated \n",
        "import numpy as np\n",
        "import random\n",
        "a = np.random.rand(10,20)\n",
        "#Matrix for the length of the tracks is being generated\n",
        "b = np.random.rand(20,1)\n",
        "print(a)\n",
        "print(b)"
      ],
      "execution_count": 31,
      "outputs": [
        {
          "output_type": "stream",
          "text": [
            "[[0.9749171  0.12884122 0.63418559 0.09622024 0.15302539 0.33464341\n",
            "  0.52914603 0.24822139 0.75484876 0.82795713 0.26540024 0.44486134\n",
            "  0.3470902  0.51374585 0.22896391 0.10960771 0.02691914 0.42228927\n",
            "  0.62999628 0.02298472]\n",
            " [0.16281809 0.26602325 0.68632266 0.71878938 0.07820304 0.07787426\n",
            "  0.87376495 0.31775621 0.43826153 0.89172428 0.19937534 0.5998836\n",
            "  0.5645484  0.47590323 0.44871785 0.38922891 0.19251502 0.16816239\n",
            "  0.10514109 0.97959415]\n",
            " [0.95878875 0.9755799  0.87161767 0.38968007 0.81074966 0.30888565\n",
            "  0.09256634 0.59169597 0.85059449 0.10337098 0.05629798 0.98205948\n",
            "  0.66215125 0.95343271 0.86607291 0.65082162 0.30785923 0.61029371\n",
            "  0.93904742 0.0710638 ]\n",
            " [0.50744535 0.94917128 0.39412277 0.19774594 0.98152491 0.19902903\n",
            "  0.14907812 0.02322109 0.45491881 0.83608112 0.45536973 0.46456245\n",
            "  0.51955075 0.20526867 0.69677696 0.6169695  0.34472207 0.348659\n",
            "  0.59689577 0.29248983]\n",
            " [0.20352879 0.44167375 0.78031922 0.44583936 0.68099242 0.30125071\n",
            "  0.68806854 0.72380627 0.33424889 0.07586658 0.68766682 0.78113789\n",
            "  0.52264602 0.36003129 0.33293613 0.94127883 0.90341805 0.71906599\n",
            "  0.56812279 0.21769349]\n",
            " [0.71683124 0.60473673 0.90444913 0.90810955 0.27839434 0.19362402\n",
            "  0.72245433 0.54922773 0.4944687  0.36291164 0.61620123 0.3184696\n",
            "  0.17113888 0.50432118 0.71156374 0.42637464 0.8819562  0.12789381\n",
            "  0.85159668 0.36563401]\n",
            " [0.88959937 0.33014347 0.19738059 0.60055538 0.63749369 0.38147845\n",
            "  0.03755533 0.46993533 0.38067653 0.29648855 0.91027096 0.97849287\n",
            "  0.98250086 0.35215652 0.57782027 0.01907602 0.81115419 0.24287966\n",
            "  0.99487679 0.56562607]\n",
            " [0.06143519 0.05792846 0.69013616 0.79661012 0.67817841 0.04033732\n",
            "  0.07877986 0.67991339 0.79059851 0.71424226 0.98960634 0.78445862\n",
            "  0.48925254 0.37186244 0.64466922 0.06323763 0.09689847 0.95266901\n",
            "  0.70300969 0.99969061]\n",
            " [0.41214095 0.9860519  0.53590182 0.9702349  0.48297017 0.61694071\n",
            "  0.19818869 0.3566139  0.71030626 0.7011297  0.02724908 0.07729937\n",
            "  0.68325021 0.34699431 0.02722628 0.97604186 0.63131382 0.56445964\n",
            "  0.45903376 0.11885784]\n",
            " [0.00508231 0.39963101 0.83697537 0.53513559 0.00652652 0.86268538\n",
            "  0.34985433 0.13585626 0.69197002 0.71895928 0.27792658 0.34131772\n",
            "  0.32547937 0.55649587 0.61687126 0.34374318 0.58241905 0.92080661\n",
            "  0.31540097 0.26116333]]\n",
            "[[0.24427912]\n",
            " [0.61363685]\n",
            " [0.38114621]\n",
            " [0.65763602]\n",
            " [0.11666719]\n",
            " [0.09258027]\n",
            " [0.94264448]\n",
            " [0.22016529]\n",
            " [0.09577651]\n",
            " [0.24095065]\n",
            " [0.89888304]\n",
            " [0.75132449]\n",
            " [0.85904549]\n",
            " [0.29234963]\n",
            " [0.82658265]\n",
            " [0.01401018]\n",
            " [0.2694598 ]\n",
            " [0.11286823]\n",
            " [0.01047622]\n",
            " [0.13846708]]\n"
          ],
          "name": "stdout"
        }
      ]
    },
    {
      "cell_type": "code",
      "metadata": {
        "id": "2lZFXmrIRg11",
        "colab_type": "code",
        "colab": {
          "base_uri": "https://localhost:8080/",
          "height": 218
        },
        "outputId": "91276397-9fea-4781-aff3-c6e9b59909e1"
      },
      "source": [
        "#Who ran for maximum or minimum total distance?\n",
        "#Distance matrix\n",
        "c = (a.dot(b))\n",
        "print(c)\n",
        "#Maximum distance\n",
        "print(c.argmax())\n",
        "#Minimum distance\n",
        "print(c.argmin())"
      ],
      "execution_count": 29,
      "outputs": [
        {
          "output_type": "stream",
          "text": [
            "[[2.14496319]\n",
            " [4.64502547]\n",
            " [3.81392506]\n",
            " [4.6000867 ]\n",
            " [3.70799626]\n",
            " [4.35059544]\n",
            " [4.35316937]\n",
            " [4.18206328]\n",
            " [5.14088612]\n",
            " [4.41942533]]\n",
            "8\n",
            "0\n"
          ],
          "name": "stdout"
        }
      ]
    },
    {
      "cell_type": "code",
      "metadata": {
        "id": "7TTkt9iuTwGX",
        "colab_type": "code",
        "colab": {
          "base_uri": "https://localhost:8080/",
          "height": 34
        },
        "outputId": "0b5416dd-b916-4ccd-cf9e-f988e0321449"
      },
      "source": [
        "#How much did B run in total\n",
        "c[1]"
      ],
      "execution_count": 30,
      "outputs": [
        {
          "output_type": "execute_result",
          "data": {
            "text/plain": [
              "array([4.64502547])"
            ]
          },
          "metadata": {
            "tags": []
          },
          "execution_count": 30
        }
      ]
    },
    {
      "cell_type": "code",
      "metadata": {
        "id": "Ba-VuN-tUYMB",
        "colab_type": "code",
        "colab": {
          "base_uri": "https://localhost:8080/",
          "height": 34
        },
        "outputId": "e0056371-c051-4419-8118-f41197433850"
      },
      "source": [
        "#How much did C run in track 0,1,2\n",
        "d = a[2,0:3]*b[0:3]\n",
        "print(d.sum())"
      ],
      "execution_count": 33,
      "outputs": [
        {
          "output_type": "stream",
          "text": [
            "3.476791527751564\n"
          ],
          "name": "stdout"
        }
      ]
    },
    {
      "cell_type": "code",
      "metadata": {
        "id": "qtpSUXbMdb-4",
        "colab_type": "code",
        "colab": {
          "base_uri": "https://localhost:8080/",
          "height": 34
        },
        "outputId": "fe059e96-e375-4966-a214-edc1b84035bf"
      },
      "source": [
        "#How much did D run in total on track 0, 2 and 3?\n",
        "e = a[3,[0,2,3]]*b[[0,2,3]]\n",
        "print(e.sum())"
      ],
      "execution_count": 34,
      "outputs": [
        {
          "output_type": "stream",
          "text": [
            "1.410487374573917\n"
          ],
          "name": "stdout"
        }
      ]
    },
    {
      "cell_type": "code",
      "metadata": {
        "id": "DQi2wXf_d9GE",
        "colab_type": "code",
        "colab": {
          "base_uri": "https://localhost:8080/",
          "height": 34
        },
        "outputId": "c56a93a3-1e17-417c-de2c-068ea58716b2"
      },
      "source": [
        "#How much did C, D and E run in total on track 0, 2 and 3?\n",
        "e = a[2:5,[0,2,3]]*b[[0,2,3]]\n",
        "print(e.sum())"
      ],
      "execution_count": 51,
      "outputs": [
        {
          "output_type": "stream",
          "text": [
            "1.9015340774459453\n"
          ],
          "name": "stdout"
        }
      ]
    },
    {
      "cell_type": "code",
      "metadata": {
        "id": "dpkHfrd4fbD9",
        "colab_type": "code",
        "colab": {
          "base_uri": "https://localhost:8080/",
          "height": 34
        },
        "outputId": "9b9832a3-79f3-44aa-f45c-233d1dfd2f85"
      },
      "source": [
        "# How many person beat A on track 1?\n",
        "(a[1,1]<a[:,1]).sum()"
      ],
      "execution_count": 45,
      "outputs": [
        {
          "output_type": "execute_result",
          "data": {
            "text/plain": [
              "7"
            ]
          },
          "metadata": {
            "tags": []
          },
          "execution_count": 45
        }
      ]
    },
    {
      "cell_type": "code",
      "metadata": {
        "id": "b3l2KfsQktFQ",
        "colab_type": "code",
        "colab": {
          "base_uri": "https://localhost:8080/",
          "height": 34
        },
        "outputId": "ae9b08f8-a35e-4b5a-fe28-e13aa94a6094"
      },
      "source": [
        "#How many person beat A in terms of total distance covered on track 0, 1 and 3?\n",
        "d = a[0:,[0,1,3]] @ b[[0,1,3]]\n",
        "print((d[0]<d[:,:]).sum())"
      ],
      "execution_count": 54,
      "outputs": [
        {
          "output_type": "stream",
          "text": [
            "9\n"
          ],
          "name": "stdout"
        }
      ]
    },
    {
      "cell_type": "code",
      "metadata": {
        "id": "TYuA_Y0-o3-d",
        "colab_type": "code",
        "colab": {
          "base_uri": "https://localhost:8080/",
          "height": 34
        },
        "outputId": "e3f8c156-6f80-4ded-c7d9-c7676af757f9"
      },
      "source": [
        "#How much more did A run in comparison to E?\n",
        "d = c[4] - c[0]\n",
        "print(d)"
      ],
      "execution_count": 56,
      "outputs": [
        {
          "output_type": "stream",
          "text": [
            "[1.56303308]\n"
          ],
          "name": "stdout"
        }
      ]
    },
    {
      "cell_type": "code",
      "metadata": {
        "id": "IiMmNEuHpNlh",
        "colab_type": "code",
        "colab": {
          "base_uri": "https://localhost:8080/",
          "height": 34
        },
        "outputId": "14663588-32fb-445c-f07a-92b64b65bf48"
      },
      "source": [
        "# What is the average distance covered by players on track 0?\n",
        "c[:,[0]].mean(axis = 0)"
      ],
      "execution_count": 57,
      "outputs": [
        {
          "output_type": "execute_result",
          "data": {
            "text/plain": [
              "array([4.13581362])"
            ]
          },
          "metadata": {
            "tags": []
          },
          "execution_count": 57
        }
      ]
    },
    {
      "cell_type": "code",
      "metadata": {
        "id": "B4MEvMwdphAw",
        "colab_type": "code",
        "colab": {
          "base_uri": "https://localhost:8080/",
          "height": 34
        },
        "outputId": "d712f313-2d9b-45ab-9c0e-46ea4fa920e0"
      },
      "source": [
        "# What is the average distance covered by A on all tracks combined?\n",
        "c[0].mean()"
      ],
      "execution_count": 59,
      "outputs": [
        {
          "output_type": "execute_result",
          "data": {
            "text/plain": [
              "2.1449631855979203"
            ]
          },
          "metadata": {
            "tags": []
          },
          "execution_count": 59
        }
      ]
    },
    {
      "cell_type": "code",
      "metadata": {
        "id": "uqADl2K5qVms",
        "colab_type": "code",
        "colab": {
          "base_uri": "https://localhost:8080/",
          "height": 50
        },
        "outputId": "3534ee74-f200-497b-f6d6-81f26461b7de"
      },
      "source": [
        "#What is the average distance ran by each player in total on all tracks combined?\n",
        "c[:,0:].mean(axis = 1)"
      ],
      "execution_count": 62,
      "outputs": [
        {
          "output_type": "execute_result",
          "data": {
            "text/plain": [
              "array([2.14496319, 4.64502547, 3.81392506, 4.6000867 , 3.70799626,\n",
              "       4.35059544, 4.35316937, 4.18206328, 5.14088612, 4.41942533])"
            ]
          },
          "metadata": {
            "tags": []
          },
          "execution_count": 62
        }
      ]
    },
    {
      "cell_type": "code",
      "metadata": {
        "id": "40PvZ2ifqxeT",
        "colab_type": "code",
        "colab": {
          "base_uri": "https://localhost:8080/",
          "height": 50
        },
        "outputId": "6de00236-908c-4a4e-fb3a-5d58a464f2c5"
      },
      "source": [
        "#Which track was used the most/least?\n",
        "print((a.sum(axis = 0)).argmax())\n",
        "print((a.sum(axis = 0)).argmin())"
      ],
      "execution_count": 76,
      "outputs": [
        {
          "output_type": "stream",
          "text": [
            "2\n",
            "5\n"
          ],
          "name": "stdout"
        }
      ]
    },
    {
      "cell_type": "code",
      "metadata": {
        "id": "9Q_NJ9daxUXw",
        "colab_type": "code",
        "colab": {
          "base_uri": "https://localhost:8080/",
          "height": 34
        },
        "outputId": "35ebd2f6-a885-4dc9-ecc6-4d22262ff0af"
      },
      "source": [
        "#Which is the longest track?\n",
        "b.argmax()"
      ],
      "execution_count": 77,
      "outputs": [
        {
          "output_type": "execute_result",
          "data": {
            "text/plain": [
              "6"
            ]
          },
          "metadata": {
            "tags": []
          },
          "execution_count": 77
        }
      ]
    },
    {
      "cell_type": "code",
      "metadata": {
        "id": "FePTeluFxcJx",
        "colab_type": "code",
        "colab": {
          "base_uri": "https://localhost:8080/",
          "height": 34
        },
        "outputId": "45b40bfd-f8e1-48d9-f8a0-4799afba0def"
      },
      "source": [
        "#How many laps was covered on track 3 in average by all players?\n",
        "a[:,3].mean()"
      ],
      "execution_count": 78,
      "outputs": [
        {
          "output_type": "execute_result",
          "data": {
            "text/plain": [
              "0.5658920537595763"
            ]
          },
          "metadata": {
            "tags": []
          },
          "execution_count": 78
        }
      ]
    }
  ]
}